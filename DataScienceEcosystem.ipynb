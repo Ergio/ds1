{
 "cells": [
  {
   "cell_type": "markdown",
   "id": "c73804e9",
   "metadata": {},
   "source": [
    "# Data Science Tools and Ecosystem\n"
   ]
  },
  {
   "cell_type": "markdown",
   "id": "c4aa4cf4",
   "metadata": {},
   "source": [
    "In this notebook, Data Science Tools and Ecosystem are summarized."
   ]
  },
  {
   "cell_type": "markdown",
   "id": "2bac9b83",
   "metadata": {},
   "source": [
    "Some of the popular languages that Data Scientists use are:\n",
    "1. R\n",
    "2. Python\n",
    "3. Java"
   ]
  },
  {
   "cell_type": "markdown",
   "id": "15c197a1",
   "metadata": {},
   "source": [
    "Some of the commonly used libraries used by Data Scientists include:\n",
    "1. numpy\n",
    "2. pandas\n",
    "3. tensorflow"
   ]
  },
  {
   "cell_type": "markdown",
   "id": "d1aca2ac",
   "metadata": {},
   "source": [
    "| Data Science Tools | \n",
    "| :- |\n",
    "| ggplot2 |\n",
    "| MATLAB |\n",
    "| D3 |"
   ]
  },
  {
   "cell_type": "markdown",
   "id": "35b89ead",
   "metadata": {},
   "source": [
    "### Below are a few examples of evaluating arithmetic expressions in Python"
   ]
  },
  {
   "cell_type": "markdown",
   "id": "51b3389f",
   "metadata": {},
   "source": []
  },
  {
   "cell_type": "code",
   "execution_count": 3,
   "id": "1abe559f",
   "metadata": {},
   "outputs": [
    {
     "data": {
      "text/plain": [
       "17"
      ]
     },
     "execution_count": 3,
     "metadata": {},
     "output_type": "execute_result"
    }
   ],
   "source": [
    "#this a simple arithmetic expression to mutiply then add integers\n",
    "(3*4)+5"
   ]
  },
  {
   "cell_type": "code",
   "execution_count": 4,
   "id": "cf57cf2e",
   "metadata": {},
   "outputs": [
    {
     "data": {
      "text/plain": [
       "3.3333333333333335"
      ]
     },
     "execution_count": 4,
     "metadata": {},
     "output_type": "execute_result"
    }
   ],
   "source": [
    "#This will convert 200 minutes to hours by diving by 60.\n",
    "\n",
    "200/60"
   ]
  },
  {
   "cell_type": "markdown",
   "id": "8ddda023",
   "metadata": {},
   "source": [
    "**Objectives:**\n",
    "\n",
    "- Objective 1: Understand the basics of R programming.\n",
    "- Objective 2: Learn how to create vectors, data frames, and lists in R.\n",
    "- Objective 3: Gain familiarity with conditional statements and loops in R.\n",
    "- Objective 4: Explore some popular R libraries for data visualization and machine learning.\n",
    "- Objective 5: Understand the importance of version control and learn how to set up a project folder structure for it."
   ]
  },
  {
   "cell_type": "markdown",
   "id": "2793b7e3",
   "metadata": {},
   "source": [
    "## Author\n",
    "\n",
    "Serhii Silov"
   ]
  }
 ],
 "metadata": {
  "kernelspec": {
   "display_name": "Python 3",
   "language": "python",
   "name": "python3"
  },
  "language_info": {
   "codemirror_mode": {
    "name": "ipython",
    "version": 3
   },
   "file_extension": ".py",
   "mimetype": "text/x-python",
   "name": "python",
   "nbconvert_exporter": "python",
   "pygments_lexer": "ipython3",
   "version": "3.10.6"
  },
  "vscode": {
   "interpreter": {
    "hash": "e593ac106456af50ce7af38f9671c411b49d6cd90f9b885e167f0f594e09038c"
   }
  }
 },
 "nbformat": 4,
 "nbformat_minor": 5
}
